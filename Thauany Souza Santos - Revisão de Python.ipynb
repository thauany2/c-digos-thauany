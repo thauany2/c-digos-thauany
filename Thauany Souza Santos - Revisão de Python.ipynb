{
 "cells": [
  {
   "cell_type": "markdown",
   "id": "790cdba8",
   "metadata": {},
   "source": [
    "### Aula de Python para Iniciantes - Mão na Massa 🐍\n",
    "\"Primeiros Passos em Python - Do Zero ao Primeiro Programa\""
   ]
  },
  {
   "cell_type": "markdown",
   "id": "30dc5e40",
   "metadata": {},
   "source": [
    "**O que é Python?**\n",
    "\n",
    "Linguagem de programação poderosa e fácil de aprender\n",
    "\n",
    "**Usada no YouTube, Instagram, NASA, Netflix**\n",
    "\n",
    "**Ótima para iniciantes*\n"
   ]
  },
  {
   "cell_type": "markdown",
   "id": "dbfc8226",
   "metadata": {},
   "source": [
    "Primeiro Contato:"
   ]
  },
  {
   "cell_type": "code",
   "execution_count": null,
   "id": "fdfdbe54",
   "metadata": {},
   "outputs": [
    {
     "name": "stdout",
     "output_type": "stream",
     "text": [
      "Hello World!\n",
      "Sejam bem-vindos ao mundo do Python! 🎉\n"
     ]
    },
    {
     "name": "stdout",
     "output_type": "stream",
     "text": [
      "Hello World!\n",
      "Sejam bem-vindos ao mundo do Python! 🎉\n"
     ]
    }
   ],
   "source": [
    "print(\"Hello World!\")\n",
    "print(\"Sejam bem-vindos ao mundo do Python! 🎉\")"
   ]
  },
  {
   "cell_type": "markdown",
   "id": "21988e6d",
   "metadata": {},
   "source": [
    "### 🖥️ Parte 2: Primeiros Comandos \n",
    "\n",
    "2.1 O Poder do print()"
   ]
  },
  {
   "cell_type": "code",
   "execution_count": 11,
   "id": "b6b868cf",
   "metadata": {},
   "outputs": [
    {
     "name": "stdout",
     "output_type": "stream",
     "text": [
      "Oi, eu sou o Python!\n",
      "Estou aprendendo a programar.\n",
      "Isso é muito legal!\n",
      "maria\n",
      "Meu nome é João e tenho 17 anos\n"
     ]
    }
   ],
   "source": [
    "# Exemplo 1\n",
    "print(\"Oi, eu sou o Python!\")\n",
    "print(\"Estou aprendendo a programar.\")\n",
    "print(\"Isso é muito legal!\")\n",
    "\n",
    "# Exercício 1: Crie um print que mostre seu nome e idade\n",
    "print(nome)\n",
    "\n",
    "# (Exemplo de solução)\n",
    "print(\"Meu nome é João e tenho 17 anos\")"
   ]
  },
  {
   "cell_type": "markdown",
   "id": "af22de51",
   "metadata": {},
   "source": [
    "2.2 Variáveis Simples"
   ]
  },
  {
   "cell_type": "code",
   "execution_count": 10,
   "id": "28d3d22b",
   "metadata": {},
   "outputs": [
    {
     "name": "stdout",
     "output_type": "stream",
     "text": [
      "maria\n",
      "17\n",
      "gato\n",
      "2009\n"
     ]
    }
   ],
   "source": [
    "# Exemplo 2\n",
    "nome = (\"maria\")\n",
    "idade = 17\n",
    "print(nome)\n",
    "print(idade)\n",
    "\n",
    "# Exercício 2: Crie variáveis para:\n",
    "\n",
    "# - Seu animal favorito\n",
    "animal_favorito = \"gato\"\n",
    "# - Seu ano de nascimento\n",
    "ano_nacimento = \"2009\"\n",
    "# E mostre elas com print\n",
    "print(animal_favorito)\n",
    "print(ano_nacimento)"
   ]
  },
  {
   "cell_type": "markdown",
   "id": "3657d1d7",
   "metadata": {},
   "source": [
    "2.3 Inputs - Conversando com o Usuário\n"
   ]
  },
  {
   "cell_type": "code",
   "execution_count": 5,
   "id": "4f7dd464",
   "metadata": {},
   "outputs": [
    {
     "name": "stdout",
     "output_type": "stream",
     "text": [
      "Olá, thauany ! Bem-vindo ao Python!\n",
      "ola, thauany ! Bem- vindo ao pytrhon\n",
      "Ola thauany,seu jogo favorito é pockemon,voce joga 2.0 por semana.\n"
     ]
    }
   ],
   "source": [
    "# Exemplo 3\n",
    "nome = input(\"Qual é o seu nome? \")\n",
    "print(\"Olá,\", nome, \"! Bem-vindo ao Python!\")\n",
    "\n",
    "# Exercício 3: Faça um programa que pergunte:\n",
    "print(\"ola,\",nome,\"! Bem- vindo ao pytrhon\")\n",
    "# - Qual seu jogo favorito\n",
    "jogo = input(\"qual é o seu jogo favorito?\")\n",
    "# - Quantas horas você joga por semana\n",
    "horas = float(input(\"quantas voce joga por semana?\"))\n",
    "# E depois mostre essas informações\n",
    "print(f\"Ola {nome},seu jogo favorito é {jogo},voce joga {horas} por semana.\")"
   ]
  },
  {
   "cell_type": "markdown",
   "id": "1f68646d",
   "metadata": {},
   "source": [
    "### 🎮 Parte 3: Mini-Projetos"
   ]
  },
  {
   "cell_type": "markdown",
   "id": "acfc8f35",
   "metadata": {},
   "source": [
    "Projeto 1: Gerador de Apelidos"
   ]
  },
  {
   "cell_type": "code",
   "execution_count": 6,
   "id": "8447908d",
   "metadata": {},
   "outputs": [
    {
     "name": "stdout",
     "output_type": "stream",
     "text": [
      "--- Gerador de Apelidos Engraçados ---\n",
      "Seu apelido poderia ser: Super camarão gato!\n"
     ]
    }
   ],
   "source": [
    "print(\"--- Gerador de Apelidos Engraçados ---\")\n",
    "comida = input(\"Qual sua comida favorita? \")\n",
    "animal = input(\"Qual seu animal preferido? \")\n",
    "print(\"Seu apelido poderia ser:\", \"Super \" + comida + \" \" + animal + \"!\")\n",
    "\n"
   ]
  },
  {
   "cell_type": "markdown",
   "id": "190b0e98",
   "metadata": {},
   "source": [
    "Projeto 2: Calculadora de Idade"
   ]
  },
  {
   "cell_type": "code",
   "execution_count": 9,
   "id": "9b15af62",
   "metadata": {},
   "outputs": [
    {
     "name": "stdout",
     "output_type": "stream",
     "text": [
      "ola sua idade é  16.0 \n"
     ]
    }
   ],
   "source": [
    "\n",
    "ano_nascimento = float(input(\" qual é a data do seu nascimento?\"))\n",
    "ano_atual = float(input(\"qual é o seu ano atual?\"))\n",
    "idade = ano_atual - ano_nascimento  \n",
    "print(f\"ola sua idade é  {idade} \") "
   ]
  },
  {
   "cell_type": "markdown",
   "id": "27b23eb0",
   "metadata": {},
   "source": [
    "Projeto 3: Quiz Simples"
   ]
  },
  {
   "cell_type": "code",
   "execution_count": 12,
   "id": "86da1065",
   "metadata": {},
   "outputs": [
    {
     "name": "stdout",
     "output_type": "stream",
     "text": [
      "--- Quiz de Programação ---\n",
      "Correto! 🎉\n"
     ]
    }
   ],
   "source": [
    "print(\"--- Quiz de Programação ---\")\n",
    "resposta = input(\"Python é uma linguagem de programação? (sim/não) \")\n",
    "if resposta == \"sim\":\n",
    "    print(\"Correto! 🎉\")\n",
    "else:\n",
    "    print(\"Ops, na verdade é sim! 😊\")"
   ]
  },
  {
   "cell_type": "markdown",
   "id": "703efc09",
   "metadata": {},
   "source": [
    "### 💡 Parte 4: Desafios "
   ]
  },
  {
   "cell_type": "markdown",
   "id": "8ee84d28",
   "metadata": {},
   "source": [
    "**Desafio 1: Crie um programa que pergunta:**\n",
    "\n",
    "**Dois números favoritos**\n",
    "\n",
    "**Seu signo**\n",
    "\n",
    "\n",
    "**E depois mostra: \"Seu código secreto é: num1 + signo + num2**"
   ]
  },
  {
   "cell_type": "code",
   "execution_count": 18,
   "id": "9949b081",
   "metadata": {},
   "outputs": [
    {
     "name": "stdout",
     "output_type": "stream",
     "text": [
      "ola seu é codigo secreto é 10touro085\n"
     ]
    }
   ],
   "source": [
    "primeiro_numero = (input(\"qual é o seu  primeiro numero favorito?\"))\n",
    "signo = (input(\"qual é seu signo?\"))\n",
    "segundo_numero = (input(\"qual é seu segundo numero favoirito?\"))\n",
    "print(f\"ola seu é codigo secreto é {primeiro_numero + signo + segundo_numero}\")"
   ]
  },
  {
   "cell_type": "markdown",
   "id": "b30a44d2",
   "metadata": {},
   "source": [
    "**Desafio 2: Crie uma história maluca que combina 3 inputs do usuário (ex: nome, objeto e lugar)**"
   ]
  },
  {
   "cell_type": "code",
   "execution_count": 22,
   "id": "8f8587bb",
   "metadata": {},
   "outputs": [
    {
     "name": "stdout",
     "output_type": "stream",
     "text": [
      "em um certo dia julia havia derrubado uma faca em um gato na cozinha\n"
     ]
    }
   ],
   "source": [
    "nome = input(\"escolha um nome\")\n",
    "objeto = input(\"escolha um objeto\")\n",
    "lugar = input(\"escolha um lugar\")\n",
    "print(f\"em um certo dia {nome} havia derrubado uma {objeto} em um gato na {lugar}\")"
   ]
  },
  {
   "cell_type": "markdown",
   "id": "dbd8c544",
   "metadata": {},
   "source": [
    "### 🌟 Encerramento:\n",
    "\n",
    "Revisão rápida do que aprenderam:\n",
    "\n",
    "**print() para mostrar informações**\n",
    "\n",
    "**input() para receber dados**\n",
    "\n",
    "**Variáveis para guardar valores**\n",
    "\n",
    "**Operações simples**"
   ]
  }
 ],
 "metadata": {
  "kernelspec": {
   "display_name": "Python 3",
   "language": "python",
   "name": "python3"
  },
  "language_info": {
   "codemirror_mode": {
    "name": "ipython",
    "version": 3
   },
   "file_extension": ".py",
   "mimetype": "text/x-python",
   "name": "python",
   "nbconvert_exporter": "python",
   "pygments_lexer": "ipython3",
   "version": "3.13.2"
  }
 },
 "nbformat": 4,
 "nbformat_minor": 5
}
