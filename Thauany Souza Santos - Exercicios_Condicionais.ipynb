{
 "cells": [
  {
   "cell_type": "markdown",
   "id": "633160a3",
   "metadata": {},
   "source": [
    "### 📝Lista de Exercícios: Condicionais IF/ELSE"
   ]
  },
  {
   "cell_type": "markdown",
   "id": "605d2a7e",
   "metadata": {},
   "source": [
    "Exercício 1 - Maioridade 🔞\n",
    "\n",
    "Crie um programa que pergunta a idade do usuário e diz se ele é maior ou menor de idade."
   ]
  },
  {
   "cell_type": "code",
   "execution_count": null,
   "id": "93ea230f",
   "metadata": {},
   "outputs": [
    {
     "name": "stdout",
     "output_type": "stream",
     "text": [
      "maior de idade\n"
     ]
    }
   ],
   "source": [
    "idade = int(input(\"Quantos anos você tem? \"))\n",
    "if idade >= 18:\n",
    "    print(\"maior de idade\")\n",
    "else:\n",
    "    print(\"menor de idade\")\n",
    "\n",
    "\n"
   ]
  },
  {
   "cell_type": "markdown",
   "id": "6e9528f5",
   "metadata": {},
   "source": [
    "Exercício 2 - Aprovação na Prova 🧠\n",
    "\n",
    "Faça um programa que pergunte a nota de um aluno (0 a 10) e diz se ele foi aprovado(nota >= 5) ou reprovado (nota <5)."
   ]
  },
  {
   "cell_type": "code",
   "execution_count": 7,
   "id": "4a9f8f8b",
   "metadata": {},
   "outputs": [
    {
     "name": "stdout",
     "output_type": "stream",
     "text": [
      "maior que 0\n"
     ]
    }
   ],
   "source": [
    "nota = float(input(\"Informe a sua nota de (0 a 10)\"))\n",
    "\n",
    "# Complete o código aqui\n",
    "if nota >= 0:\n",
    "    print(\"maior que 0\")\n",
    "else:\n",
    "    print(\"nemor que 10\")\n"
   ]
  },
  {
   "cell_type": "markdown",
   "id": "9f8e9b92",
   "metadata": {},
   "source": [
    "Exercicio 3 - CNH 🚘🚙\n",
    "\n",
    " 1º - Peça ao usuário que digite a idade dele.\n",
    "\n",
    " 2º - Peça pra ele dizer se foi aprovado ou reprovado no curso de cnh.\n",
    "\n",
    " 3º - Use if e else para verificar se ele tem 18 anos ou mais e se foi aprovado.\n",
    "\n",
    " 4º - Se as condições do passo 3 estiverem certas, print(\"pode dirigir\").\n",
    " \n",
    " 5º - Se não print(\"vai andar a pé\")"
   ]
  },
  {
   "cell_type": "code",
   "execution_count": null,
   "id": "fd12de81",
   "metadata": {},
   "outputs": [],
   "source": []
  },
  {
   "cell_type": "code",
   "execution_count": 10,
   "id": "bee9f043",
   "metadata": {},
   "outputs": [
    {
     "name": "stdout",
     "output_type": "stream",
     "text": [
      "vai andar a pé \n"
     ]
    }
   ],
   "source": [
    "### Seu código aqui\n",
    "idade = int(input(\"quantos anos você tem?\"))\n",
    "curso_cnh = input(\"você foi aprovado no curso sim ou n?\")\n",
    "\n",
    "if idade >=18 and curso_cnh ==\"sim?\":\n",
    "     print(\"pode dirigir pegue a caranga\")\n",
    "else:\n",
    "     print(\"vai andar a pé \")\n"
   ]
  },
  {
   "cell_type": "markdown",
   "id": "d72cd950",
   "metadata": {},
   "source": []
  },
  {
   "cell_type": "markdown",
   "id": "967ea492",
   "metadata": {},
   "source": []
  },
  {
   "cell_type": "code",
   "execution_count": null,
   "id": "e9c60d12",
   "metadata": {},
   "outputs": [
    {
     "ename": "SyntaxError",
     "evalue": "invalid character '💵' (U+1F4B5) (483037802.py, line 1)",
     "output_type": "error",
     "traceback": [
      "  \u001b[36mCell\u001b[39m\u001b[36m \u001b[39m\u001b[32mIn[9]\u001b[39m\u001b[32m, line 1\u001b[39m\n\u001b[31m    \u001b[39m\u001b[31mExercício 4 - Calculadora de Desconto. 💵 🤑\u001b[39m\n                                           ^\n\u001b[31mSyntaxError\u001b[39m\u001b[31m:\u001b[39m invalid character '💵' (U+1F4B5)\n"
     ]
    }
   ],
   "source": [
    "#Exercício 4 - Calculadora de Desconto. 💵 🤑\n",
    "\n",
    "#Uma loja dá 10% de desconto para compras acima de R$ 100,00. Faça um programa que:\n",
    "\n",
    "#1º - Pergunta o valor da compra.\n",
    "\n",
    "#2º - Calcula o valor final com desconto (se aplicável).\n",
    "\n",
    "#3º - Mostra o valor a pagar.\n",
    "\n"
   ]
  },
  {
   "cell_type": "code",
   "execution_count": 13,
   "id": "5edc8855",
   "metadata": {},
   "outputs": [
    {
     "name": "stdout",
     "output_type": "stream",
     "text": [
      "você tem 10% de desconto, valor da compra\n"
     ]
    }
   ],
   "source": [
    "### Seu código aqui\n",
    "valor_compra = float(input(\"qual ovalor da compra?\"))\n",
    "desconto = valor_compra * 0.10 \n",
    "\n",
    "if valor_compra >=100:\n",
    "    print(f\"você tem 10% de desconto, valor da compra\")\n",
    "else:\n",
    "    print(f\"Não teve desconto, o valor ficou {valor_compra}\")"
   ]
  },
  {
   "cell_type": "markdown",
   "id": "ec96b43c",
   "metadata": {},
   "source": [
    "Exercício 5 - Classificação de Notas 🧑‍🎓\n",
    "\n",
    "Pergunte a nota de um aluno e dependendo da nota que ele informar, o classifique de acordo com as regras abaixo:\n",
    "\n",
    "Classifique a nota do aluno:\n",
    "\n",
    "- 9 até 10: \"Excelente\"\n",
    "\n",
    "- 7 até 8.9: \"Bom\"\n",
    "\n",
    "- 5 até 6.9: \"Regular\"\n",
    "\n",
    "- 0 até 4.9: \"Reprovado\"\n",
    "\n",
    "mostre para o aluno a classificação dele através de um print, exemplo print(\"Excelente\")."
   ]
  },
  {
   "cell_type": "code",
   "execution_count": 14,
   "id": "465c6812",
   "metadata": {},
   "outputs": [
    {
     "name": "stdout",
     "output_type": "stream",
     "text": [
      "exelente\n"
     ]
    }
   ],
   "source": [
    "nota = float(input(\"qual a sua nota ? :\"))\n",
    "\n",
    "if nota >=9 and nota <=10:\n",
    "    print(\"exelente\")\n",
    "elif nota >=7 and nota <=8.9:\n",
    "    print(\"regular\")\n",
    "else:\n",
    "    print(\"reprovado\")"
   ]
  },
  {
   "cell_type": "code",
   "execution_count": null,
   "id": "2d9196eb",
   "metadata": {},
   "outputs": [],
   "source": []
  },
  {
   "cell_type": "markdown",
   "id": "251b0fa7",
   "metadata": {},
   "source": [
    "Exercício 6 - Acesso ao Sistema 🔑\n",
    "\n",
    "Crie um login simples:\n",
    "\n",
    "- usuario_correto = \"admin\"\n",
    "\n",
    "- senha_correta = \"1234\"\n",
    "\n",
    "**Peça para o usuário digitar primeiro o login e depois a senha, caso login e senha estejam corretos programa deve mostrar \"Acesso permitido\" se não \"Acesso negado\"**\n"
   ]
  },
  {
   "cell_type": "code",
   "execution_count": 17,
   "id": "7fcf16db",
   "metadata": {},
   "outputs": [
    {
     "name": "stdout",
     "output_type": "stream",
     "text": [
      "Acesso permitido, bem vindo ao sistema admin\n"
     ]
    }
   ],
   "source": [
    "usuario_correto = \"admin\"\n",
    "senha_correta = 1234\n",
    "\n",
    "login = input(\"Qual o seu login/usuario ?\")\n",
    "senha = int(input(\"Digite a sua senha : \"))\n",
    "\n",
    "if login == usuario_correto and senha == senha_correta:\n",
    "    print(f\"Acesso permitido, bem vindo ao sistema {login}\")\n",
    "else:\n",
    "    print(\"Asesso negado\")"
   ]
  },
  {
   "cell_type": "markdown",
   "id": "46c27406",
   "metadata": {},
   "source": [
    "Exercício 7 - Maior Número 📉\n",
    "\n",
    "Peça 3 números e mostre qual é o maior deles."
   ]
  },
  {
   "cell_type": "code",
   "execution_count": null,
   "id": "916439ff",
   "metadata": {},
   "outputs": [
    {
     "name": "stdout",
     "output_type": "stream",
     "text": [
      "O maior número é 876.0\n"
     ]
    }
   ],
   "source": [
    "primeiro_numero = float(input(\"Digite o primeiro numero\"))\n",
    "segundo_numero = float(input(\"Digite o segundo numero\"))\n",
    "terceiro_numero = float(input(\"Digite o terceiro numero\"))\n",
    "\n",
    "if primeiro_numero > segundo_numero and primeiro_numero > terceiro_numero:\n",
    "    print(f\"O maior número é o {primeiro_numero}\")\n",
    "elif segundo_numero > primeiro_numero and segundo_numero > terceiro_numero:\n",
    "    print(f\"O maior número é o{segundo_numero}\")\n",
    "else:\n",
    "    print(f\"O maior número é {terceiro_numero}\")\n"
   ]
  },
  {
   "cell_type": "markdown",
   "id": "984fe0fe",
   "metadata": {},
   "source": [
    "Exercício 8 - Dia da Semana\n",
    "Peça um número de 1 a 7 e mostre o dia da semana correspondente: 📅\n",
    "\n",
    "- 1: Domingo\n",
    "\n",
    "- 2: Segunda\n",
    "\n",
    "- ... até 7: Sábado"
   ]
  },
  {
   "cell_type": "code",
   "execution_count": null,
   "id": "f34c6fbf",
   "metadata": {},
   "outputs": [],
   "source": [
    "dia = int(input(\"escolha um numero de 1 a 7\"))\n",
    "if dia == 1:\n",
    "    print(\"domingo\")\n",
    "elif dia == 2:\n",
    "    print(\"segunda\")\n",
    "elif dia == 3:\n",
    "    print(\"terça\")\n",
    "elif dia == 4:\n",
    "    print(\"quarta\")\n",
    "elif dia == 5:\n",
    "    print(\"quinto\")\n",
    "elif dia == 6:\n",
    "    print(\"sexto\")\n",
    "else:\n",
    "    print(\"sabado\")\n",
    "    "
   ]
  },
  {
   "cell_type": "markdown",
   "id": "f1f760b7",
   "metadata": {},
   "source": [
    "Exercício 9 - Calculadora Simples 📏📐\n",
    "\n",
    "- Faça uma calculadora que:\n",
    "\n",
    "- Pede dois números\n",
    "\n",
    "- Pede a operação (+, -, *, /)\n",
    "\n",
    "- Dependendo da operação mostre o resultado.\n",
    "\n"
   ]
  },
  {
   "cell_type": "code",
   "execution_count": 2,
   "id": "95c6ce03",
   "metadata": {},
   "outputs": [
    {
     "name": "stdout",
     "output_type": "stream",
     "text": [
      "A  subitração de 10.0 - 5.0 deu 5.0\n"
     ]
    }
   ],
   "source": [
    "primeiro_numero = float(input(\"Digite o primeiro número\"))\n",
    "segundo_numero = float(input(\"Digite o segundo número\"))\n",
    "operacao = input(\"Qual tipo de conta você quer fazer?\")\n",
    "\n",
    "if operacao == \"+\":\n",
    "  conta = primeiro_numero + segundo_numero\n",
    "  print(f\" A soma de {primeiro_numero} + {segundo_numero} deu {conta}\")\n",
    "elif operacao == \"-\":\n",
    "  conta = primeiro_numero - segundo_numero\n",
    "  print(f\"A  subitração de {primeiro_numero} - {segundo_numero} deu {conta}\")\n",
    "\n",
    "elif operacao == \"*\":\n",
    "  conta = primeiro_numero * segundo_numero\n",
    "  print(f\"A mutiplicação de {primeiro_numero} * {segundo_numero} deu {conta}\")\n",
    "\n",
    "else:\n",
    "  conta = primeiro_numero / segundo_numero\n",
    "  print(f\"A divisão de{primeiro_numero} / {segundo_numero} deu {conta}\")"
   ]
  },
  {
   "cell_type": "markdown",
   "id": "f39f6b73",
   "metadata": {},
   "source": [
    "Exercício 10 - Sistema de Multas 🚙🚘🧾\n",
    "\n",
    "\n",
    "- Velocidade máxima: 80 km/h 🚫\n",
    "\n",
    "- Até 80: \"Sem multa\"\n",
    "\n",
    "- 81-100: \"Multa leve\"\n",
    "\n",
    "- Acima de 100: \"Multa grave\""
   ]
  },
  {
   "cell_type": "code",
   "execution_count": 1,
   "id": "20fdc977",
   "metadata": {},
   "outputs": [],
   "source": [
    "velocidade = int(input(\"Digite qual foi a velocidade\"))\n",
    "if velocidade==80:\n",
    "    print(\" sem multa\")\n",
    "elif velocidade >= 81 and velocidade <=99:\n",
    "    print(\"multa leve\")\n",
    "elif velocidade >=100:\n",
    "    print(\"multa grave\")"
   ]
  }
 ],
 "metadata": {
  "kernelspec": {
   "display_name": "Python 3",
   "language": "python",
   "name": "python3"
  },
  "language_info": {
   "codemirror_mode": {
    "name": "ipython",
    "version": 3
   },
   "file_extension": ".py",
   "mimetype": "text/x-python",
   "name": "python",
   "nbconvert_exporter": "python",
   "pygments_lexer": "ipython3",
   "version": "3.13.2"
  }
 },
 "nbformat": 4,
 "nbformat_minor": 5
}
