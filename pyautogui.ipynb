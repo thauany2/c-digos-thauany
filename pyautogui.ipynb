{
 "cells": [
  {
   "cell_type": "markdown",
   "id": "ed5685a8",
   "metadata": {},
   "source": [
    "# estou importando o pyautogui e apelidando ele de aut\n",
    "import pyautogui as aut \n",
    "\n",
    "#pressiono a tecla de trabalhio win +r\n",
    "aut.hotkey(\"win\",\"r\")\n",
    "#escrever notpad \n",
    "aut.write(\"notepad\", interval=0.1)\n",
    "#esperar 1 segundo\n",
    "aut.sleep(1)\n",
    "#apertar o enter  \n",
    "aut.press(\"Enter\")\n",
    "aut.sleep(1)\n",
    "aut.moveTo()\n",
    "aut.click()\n",
    "aut.sleep(1)\n",
    "aut.write(\"Oi como vai a vida\")\n",
    "       "
   ]
  },
  {
   "cell_type": "markdown",
   "id": "84794486",
   "metadata": {},
   "source": [
    "### BLOCO DE NOTAS 📒"
   ]
  },
  {
   "cell_type": "code",
   "execution_count": null,
   "metadata": {},
   "outputs": [],
   "source": [
    "# estou importando o pyautogui e apelidando ele de aut\n",
    "import pyautogui as aut \n",
    "\n",
    "#pressiono a tecla de trabalhio win +r\n",
    "aut.hotkey(\"win\",\"r\")\n",
    "#escrever notpad \n",
    "aut.write(\"notepad\", interval=0.1)\n",
    "#esperar 1 segundo\n",
    "aut.sleep(1)\n",
    "#apertar o enter  \n",
    "aut.press(\"Enter\")\n"
   ]
  },
  {
   "cell_type": "markdown",
   "id": "b9a28156",
   "metadata": {},
   "source": [
    "### PEGAR INFORMAÇÃO DO MOUSE 🖱️\n"
   ]
  },
  {
   "cell_type": "code",
   "execution_count": null,
   "metadata": {},
   "outputs": [],
   "source": [
    "# estou importando o pyautogui e apelidando ele de aut\n",
    "import pyautogui as aut \n",
    "\n",
    "#pressiono a tecla de trabalhio win +r\n",
    "aut.hotkey(\"win\",\"r\")\n",
    "#escrever notpad \n",
    "aut.write(\"notepad\", interval=0.1)\n",
    "#esperar 1 segundo\n",
    "aut.sleep(1)\n",
    "#apertar o enter  \n",
    "aut.press(\"Enter\")\n",
    "aut.sleep(1)\n",
    "aut.moveTo(76,150)\n",
    "aut.click()\n",
    "aut.sleep(1)\n",
    "aut.write(\"I LOVE YOU\",interval=0.1)\n",
    "       "
   ]
  },
  {
   "cell_type": "markdown",
   "id": "f8e7616e",
   "metadata": {},
   "source": [
    "### EXERCÌCIOS YOUTUBE ▶️"
   ]
  },
  {
   "cell_type": "code",
   "execution_count": 48,
   "id": "9cb8a4c3",
   "metadata": {},
   "outputs": [],
   "source": [
    "#pressiono a tecla de trabalhio win +r\n",
    "aut.hotkey(\"win\",\"r\")\n",
    "#escrever notpad \n",
    "aut.write(\"https://youtu.be/1OWcZB7U-DU?si=3u6zQVD5t5H1piLf\", interval=0.1)\n",
    "#esperar 1 segundo\n",
    "aut.sleep(1)\n",
    "#apertar o enter  \n",
    "aut.press(\"Enter\")\n"
   ]
  },
  {
   "cell_type": "markdown",
   "id": "248a5dc9",
   "metadata": {},
   "source": [
    "### EXERCÌCIO CALCULADORA 📠➕"
   ]
  },
  {
   "cell_type": "code",
   "execution_count": 60,
   "id": "3935122d",
   "metadata": {},
   "outputs": [],
   "source": [
    "\n",
    "#pressiono a tecla de trabalhio win +r\n",
    "aut.hotkey(\"win\",\"r\")\n",
    "#escrever notpad \n",
    "aut.write(\"Calc.exe\", interval=0.1)\n",
    "#esperar 1 segundo\n",
    "aut.sleep(1)\n",
    "#apertar o enter  \n",
    "aut.press(\"Enter\")\n",
    "aut.sleep(1)\n",
    "aut.moveTo(76,150)\n",
    "aut.click()\n",
    "aut.sleep(1)\n",
    "aut.write(\"10 + 9 = 19 \",interval=0.1)\n",
    "       "
   ]
  },
  {
   "cell_type": "markdown",
   "id": "56742eb6",
   "metadata": {},
   "source": [
    "###  DESENHE UMA CASA NO PAINT 🏠"
   ]
  },
  {
   "cell_type": "code",
   "execution_count": null,
   "id": "3e042842",
   "metadata": {},
   "outputs": [],
   "source": [
    "aut.hotkey(\"win\",\"r\")\n",
    "#escrever notpad \n",
    "aut.write(\"https://paint.js.org/\", interval=0.1)\n",
    "#esperar 1 segundo\n",
    "aut.sleep(1)\n",
    "#apertar o enter  \n",
    "aut.press(\"Enter\")\n",
    "aut.sleep(1)\n",
    "aut.moveTo(683,486)\n",
    "aut.click()\n",
    "aut.sleep(1)\n",
    "aut.write(\"Enter\")\n",
    "       "
   ]
  }
 ],
 "metadata": {
  "kernelspec": {
   "display_name": "Python 3",
   "language": "python",
   "name": "python3"
  },
  "language_info": {
   "codemirror_mode": {
    "name": "ipython",
    "version": 3
   },
   "file_extension": ".py",
   "mimetype": "text/x-python",
   "name": "python",
   "nbconvert_exporter": "python",
   "pygments_lexer": "ipython3",
   "version": "3.13.2"
  }
 },
 "nbformat": 4,
 "nbformat_minor": 5
}
