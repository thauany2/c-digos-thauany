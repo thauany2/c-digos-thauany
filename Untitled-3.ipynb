{
 "cells": [
  {
   "cell_type": "markdown",
   "id": "79262c8a",
   "metadata": {},
   "source": [
    "### CLT"
   ]
  },
  {
   "cell_type": "code",
   "execution_count": 1,
   "id": "a47fd916",
   "metadata": {},
   "outputs": [
    {
     "name": "stdout",
     "output_type": "stream",
     "text": [
      "voce esta devendo :  7330\n"
     ]
    }
   ],
   "source": [
    "salario = 12000\n",
    "internet = 200\n",
    "luz = 300\n",
    "gas = 200\n",
    "agua = 570\n",
    "aluguel = 2900\n",
    "condominio = 500\n",
    "\n",
    "total_gasto = + gas + agua + luz + condominio + aluguel +internet \n",
    "quanto_sobra = salario - total_gasto \n",
    "\n",
    "print(f\"voce esta devendo :  {quanto_sobra }\")\n"
   ]
  }
 ],
 "metadata": {
  "kernelspec": {
   "display_name": "Python 3",
   "language": "python",
   "name": "python3"
  },
  "language_info": {
   "codemirror_mode": {
    "name": "ipython",
    "version": 3
   },
   "file_extension": ".py",
   "mimetype": "text/x-python",
   "name": "python",
   "nbconvert_exporter": "python",
   "pygments_lexer": "ipython3",
   "version": "3.13.2"
  }
 },
 "nbformat": 4,
 "nbformat_minor": 5
}
