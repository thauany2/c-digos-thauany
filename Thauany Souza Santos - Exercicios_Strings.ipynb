{
 "cells": [
  {
   "cell_type": "markdown",
   "id": "8e7a3a05",
   "metadata": {},
   "source": [
    "### 📝 Lista de Exercícios: Strings + Condicionais\n",
    "\n",
    "# Métodos\n",
    "\n",
    "| Método | Descrição | Exemplo | Resultado |\n",
    "|--------|-----------|---------|-----------|\n",
    "| **`upper()`** | Converte toda a string para maiúsculas | `\"python\".upper()` | `'PYTHON'` |\n",
    "| **`lower()`** | Converte toda a string para minúsculas | `\"PYTHON\".lower()` | `'python'` |\n",
    "| **`capitalize()`** | Primeira letra maiúscula, resto minúsculas | `\"python\".capitalize()` | `'Python'` |\n",
    "| **`title()`** | Primeira letra de cada palavra maiúscula | `\"hello world\".title()` | `'Hello World'` |\n",
    "| **`strip()`** | Remove espaços em branco no início e fim | `\"  hello  \".strip()` | `'hello'` |\n",
    "| **`lstrip()`** | Remove espaços apenas no início | `\"  hello  \".lstrip()` | `'hello  '` |\n",
    "| **`rstrip()`** | Remove espaços apenas no final | `\"  hello  \".rstrip()` | `'  hello'` |\n",
    "| **`replace(old, new)`** | Substitui parte da string | `\"hello\".replace(\"l\", \"x\")` | `'hexxo'` |\n",
    "| **`split(sep)`** | Divide a string em uma lista | `\"a,b,c\".split(\",\")` | `['a', 'b', 'c']` |\n",
    "| **`join(iterable)`** | Junta elementos com a string como separador | `\",\".join(['a','b','c'])` | `'a,b,c'` |\n",
    "| **`find(sub)`** | Retorna índice da primeira ocorrência | `\"hello\".find(\"l\")` | `2` |\n",
    "| **`rfind(sub)`** | Retorna índice da última ocorrência | `\"hello\".rfind(\"l\")` | `3` |\n",
    "| **`index(sub)`** | Como find(), mas levanta erro se não encontrar | `\"hello\".index(\"l\")` | `2` |\n",
    "| **`count(sub)`** | Conta ocorrências de substring | `\"hello\".count(\"l\")` | `2` |\n",
    "| **`startswith(prefix)`** | Verifica se começa com prefixo | `\"hello\".startswith(\"he\")` | `True` |\n",
    "| **`endswith(suffix)`** | Verifica se termina com sufixo | `\"hello\".endswith(\"lo\")` | `True` |\n",
    "| **`isalpha()`** | Verifica se todos são caracteres alfabéticos | `\"hello\".isalpha()` | `True` |\n",
    "| **`isdigit()`** | Verifica se todos são dígitos | `\"123\".isdigit()` | `True` |\n",
    "| **`isalnum()`** | Verifica se são alfanuméricos | `\"abc123\".isalnum()` | `True` |\n",
    "| **`isspace()`** | Verifica se são espaços em branco | `\"   \".isspace()` | `True` |\n",
    "| **`islower()`** | Verifica se todas as letras são minúsculas | `\"hello\".islower()` | `True` |\n",
    "| **`isupper()`** | Verifica se todas as letras são maiúsculas | `\"HELLO\".isupper()` | `True` |\n"
   ]
  },
  {
   "cell_type": "markdown",
   "id": "5d1bbbdb",
   "metadata": {},
   "source": [
    "💻 Exercício 1 - Verificador de E-mail Simples\n",
    "\n",
    "Verifique se um e-mail contém o símbolo \"@\" e termina com \".com\""
   ]
  },
  {
   "cell_type": "code",
   "execution_count": 2,
   "id": "681b656c",
   "metadata": {},
   "outputs": [
    {
     "name": "stdout",
     "output_type": "stream",
     "text": [
      "Este email não tem @ ou .com\n"
     ]
    }
   ],
   "source": [
    "email = input(\"Digite seu e-mail:\")\n",
    "if \"@\" in email and email.endswith(\".com\"):\n",
    "    print(\"Este email contém @ and .com\") \n",
    "else:\n",
    "    print(\"Este email não tem @ ou .com\")\n"
   ]
  },
  {
   "cell_type": "markdown",
   "id": "5579e0b0",
   "metadata": {},
   "source": [
    "🔤 Exercício 2 - Maiúscula ou Minúscula?\n",
    "\n",
    "Peça uma letra e diga se ela é maiúscula ou minúscula."
   ]
  },
  {
   "cell_type": "code",
   "execution_count": 4,
   "id": "eba3ca5a",
   "metadata": {},
   "outputs": [
    {
     "name": "stdout",
     "output_type": "stream",
     "text": [
      "Você escreveu em minúscula\n"
     ]
    }
   ],
   "source": [
    "letra = input(\"Escolha uma letra\")\n",
    "if letra.islower():\n",
    "    print(\"Você escreveu em minúscula\")\n",
    "elif letra.isupper():\n",
    "    print(\"Você escreveu em miúscula\")"
   ]
  },
  {
   "cell_type": "markdown",
   "id": "943c69eb",
   "metadata": {},
   "source": [
    "🥷 Exercício 3 - Verificador de Senha Forte\n",
    "\n",
    "Peça para o usuário criar uma senha e verifique se a senha criada é forte.\n",
    "\n",
    "\n",
    "Uma senha é forte se:\n",
    "\n",
    "- Tem pelo menos 8 caracteres\n",
    "\n",
    "- Contém pelo menos um número\n",
    "\n",
    "- Contém pelo menos uma letra maiúscula"
   ]
  },
  {
   "cell_type": "code",
   "execution_count": 18,
   "id": "01e44abe",
   "metadata": {},
   "outputs": [
    {
     "ename": "SyntaxError",
     "evalue": "invalid syntax (1722574377.py, line 4)",
     "output_type": "error",
     "traceback": [
      "  \u001b[36mCell\u001b[39m\u001b[36m \u001b[39m\u001b[32mIn[18]\u001b[39m\u001b[32m, line 4\u001b[39m\n\u001b[31m    \u001b[39m\u001b[31melif:\u001b[39m\n        ^\n\u001b[31mSyntaxError\u001b[39m\u001b[31m:\u001b[39m invalid syntax\n"
     ]
    }
   ],
   "source": [
    "senha = input(\"crie uma senha\")\n",
    "if len (senha) >=8 and senha.islower and senha.isupper:\n",
    "    print(\"sua senha é forte\")\n",
    "elif:\n",
    "print(\"a letra da sua senha é maúscula\")"
   ]
  },
  {
   "cell_type": "markdown",
   "id": "f1ced8d1",
   "metadata": {},
   "source": [
    "🧾 Exercício 4 - Inicial do Nome\n",
    "\n",
    "Peça o nome completo e diga se a primeira letra é vogal ou consoante."
   ]
  },
  {
   "cell_type": "code",
   "execution_count": null,
   "id": "a64c050f",
   "metadata": {},
   "outputs": [
    {
     "ename": "NameError",
     "evalue": "name 'letra' is not defined",
     "output_type": "error",
     "traceback": [
      "\u001b[31m---------------------------------------------------------------------------\u001b[39m",
      "\u001b[31mNameError\u001b[39m                                 Traceback (most recent call last)",
      "\u001b[36mCell\u001b[39m\u001b[36m \u001b[39m\u001b[32mIn[17]\u001b[39m\u001b[32m, line 2\u001b[39m\n\u001b[32m      1\u001b[39m nome_completo = (\u001b[33m\"\u001b[39m\u001b[33mDiga seu nome completo\u001b[39m\u001b[33m\"\u001b[39m)\n\u001b[32m----> \u001b[39m\u001b[32m2\u001b[39m \u001b[38;5;28;01mif\u001b[39;00m \u001b[43mletra\u001b[49m.islower():\n\u001b[32m      3\u001b[39m     \u001b[38;5;28mprint\u001b[39m(\u001b[33m\"\u001b[39m\u001b[33msua primeira letra é vogal\u001b[39m\u001b[33m\"\u001b[39m)\n\u001b[32m      4\u001b[39m \u001b[38;5;28;01melif\u001b[39;00m letra.isupper():\n",
      "\u001b[31mNameError\u001b[39m: name 'letra' is not defined"
     ]
    }
   ],
   "source": [
    "nome_completo = (\"Diga seu nome completo\")\n",
    "if letra.islower():\n",
    "    print(\"sua primeira letra é vogal\")\n",
    "elif letra.isupper():\n",
    "    print(\"sua primeira letra é consoante\")\n"
   ]
  },
  {
   "cell_type": "markdown",
   "id": "6d862740",
   "metadata": {},
   "source": [
    "😒 Exercício 5 - Comparador de Strings\n",
    "\n",
    "Peça duas palavras e diga se são iguais ou diferentes."
   ]
  },
  {
   "cell_type": "code",
   "execution_count": 15,
   "id": "314aec0a",
   "metadata": {},
   "outputs": [
    {
     "name": "stdout",
     "output_type": "stream",
     "text": [
      "São diferentes\n"
     ]
    }
   ],
   "source": [
    "primeira_palavra = input(\"Digite a primeira palavra\")\n",
    "segunda_palavra = input(\"Digite a segunda palavra\")\n",
    "if primeira_palavra == segunda_palavra:\n",
    "    print(\"são iguais\")\n",
    "else:\n",
    "    print(\"São diferentes\")"
   ]
  },
  {
   "cell_type": "markdown",
   "id": "0563de29",
   "metadata": {},
   "source": [
    "🏟️ Exercício 6 - Verificador de CEP\n",
    "\n",
    "Um CEP válido deve ter exatamente 8 dígitos numéricos."
   ]
  },
  {
   "cell_type": "code",
   "execution_count": null,
   "id": "d3b541d0",
   "metadata": {},
   "outputs": [],
   "source": []
  },
  {
   "cell_type": "markdown",
   "id": "e6162561",
   "metadata": {},
   "source": [
    "🧾 Exercício 7 - Iniciais Iguais\n",
    "\n",
    "Peça duas palavras e verifique se começam com a mesma letra.\n"
   ]
  },
  {
   "cell_type": "code",
   "execution_count": null,
   "id": "b49ac0b0",
   "metadata": {},
   "outputs": [],
   "source": []
  },
  {
   "cell_type": "markdown",
   "id": "42ec22e4",
   "metadata": {},
   "source": [
    "🔤 Exercício 8 - Termina com Vogal\n",
    "\n",
    "Peça uma palavra ao usuário e diga se termina com vogal."
   ]
  },
  {
   "cell_type": "code",
   "execution_count": null,
   "id": "015ea656",
   "metadata": {},
   "outputs": [],
   "source": []
  },
  {
   "cell_type": "markdown",
   "id": "b1ed319e",
   "metadata": {},
   "source": [
    "🤖 Exercício 9 - Verificador de CPF Simples\n",
    "\n",
    "Verifique se um CPF tem 11 dígitos numéricos."
   ]
  },
  {
   "cell_type": "code",
   "execution_count": null,
   "id": "26966137",
   "metadata": {},
   "outputs": [],
   "source": []
  },
  {
   "cell_type": "markdown",
   "id": "cf0c7496",
   "metadata": {},
   "source": [
    "💵 Exercicio 10 - Conversor de Moeda\n",
    "\n",
    "Converta Real para Dólar (use taxa fixa)."
   ]
  },
  {
   "cell_type": "code",
   "execution_count": null,
   "id": "6e3a618f",
   "metadata": {},
   "outputs": [],
   "source": [
    "dolar = 5.44\n",
    "real = float(input(\"Informe a quantidade de dinheiro em real \"))\n",
    "\n",
    "### complete o código\n",
    "\n",
    "\n",
    "## exemplo 1 real brasileiro, vale 0.18 centavos de dolar."
   ]
  },
  {
   "cell_type": "markdown",
   "id": "91fec7e1",
   "metadata": {},
   "source": [
    "💵 Exercicio 11 - Conversor de Moeda\n",
    "\n",
    "Converta Dólar para Real (use taxa fixa)."
   ]
  },
  {
   "cell_type": "code",
   "execution_count": null,
   "id": "13b781b5",
   "metadata": {},
   "outputs": [],
   "source": [
    "dolar = 5.44\n",
    "real = float(input(\"Informe a quantidade de dinheiro em real \"))\n",
    "\n",
    "### complete o código\n",
    "\n",
    "## exemplo 1 dólar, vale 5.44 reais.\n",
    "\n"
   ]
  }
 ],
 "metadata": {
  "kernelspec": {
   "display_name": "Python 3",
   "language": "python",
   "name": "python3"
  },
  "language_info": {
   "codemirror_mode": {
    "name": "ipython",
    "version": 3
   },
   "file_extension": ".py",
   "mimetype": "text/x-python",
   "name": "python",
   "nbconvert_exporter": "python",
   "pygments_lexer": "ipython3",
   "version": "3.13.2"
  }
 },
 "nbformat": 4,
 "nbformat_minor": 5
}
