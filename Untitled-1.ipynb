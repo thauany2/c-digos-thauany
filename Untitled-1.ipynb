{
 "cells": [
  {
   "cell_type": "markdown",
   "id": "0518afda",
   "metadata": {},
   "source": [
    "# # #MINHA PLAYLIST"
   ]
  },
  {
   "cell_type": "markdown",
   "id": "c9608805",
   "metadata": {},
   "source": []
  },
  {
   "cell_type": "code",
   "execution_count": 1,
   "id": "4286f4ab",
   "metadata": {},
   "outputs": [
    {
     "name": "stdout",
     "output_type": "stream",
     "text": [
      "Nuestra canción\n"
     ]
    }
   ],
   "source": [
    "minha_playlist = [\"Nuestra canción\", \"Amina\", \"Rodeo\", \"Or Nah\", \"Let the world burn\" ]\n",
    "print(minha_playlist[0])"
   ]
  }
 ],
 "metadata": {
  "kernelspec": {
   "display_name": "Python 3",
   "language": "python",
   "name": "python3"
  },
  "language_info": {
   "codemirror_mode": {
    "name": "ipython",
    "version": 3
   },
   "file_extension": ".py",
   "mimetype": "text/x-python",
   "name": "python",
   "nbconvert_exporter": "python",
   "pygments_lexer": "ipython3",
   "version": "3.13.2"
  }
 },
 "nbformat": 4,
 "nbformat_minor": 5
}
