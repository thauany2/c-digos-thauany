{
 "cells": [
  {
   "cell_type": "markdown",
   "id": "6c085d48",
   "metadata": {},
   "source": [
    "### Lista de Exercícios Básicos de Manipulação de Arquivos CSV\n",
    "\n",
    "Aqui está uma lista de exercícios progressivos para praticar manipulação de arquivos CSV em Python."
   ]
  },
  {
   "cell_type": "markdown",
   "id": "7e788390",
   "metadata": {},
   "source": [
    "Exercício 1: Criando um arquivo CSV simples\n",
    "\n",
    "Crie um arquivo chamado alunos.csv com os seguintes dados:\n",
    "\n",
    "Nome,Idade,Nota\n",
    "\n",
    "\n",
    "Ana,17,8.5\n",
    "\n",
    "\n",
    "João,16,7.0\n",
    "\n",
    "\n",
    "Maria,18,9.0"
   ]
  },
  {
   "cell_type": "code",
   "execution_count": 6,
   "id": "d74802d2",
   "metadata": {},
   "outputs": [],
   "source": [
    "import csv\n",
    "\n",
    "dados = [\n",
    "    [\"nome\", \"idade\", \"nota\"],\n",
    "    [\"Ana\", 17, \"8.5\"],\n",
    "    [\"João\", 16, \"7.0\"],\n",
    "    [\"maria\", 18, \"9.0\"]\n",
    "]\n",
    "\n",
    "with open(\"alunos.csv\", \"w\", newline='', encoding=\"utf-8\") as arquivo:\n",
    "    escritor = csv.writer(arquivo)\n",
    "    escritor.writerows(dados)\n",
    "    with open(\"alunos.csv\", \"r\", encoding=\"utf-8\") as arquivo:\n",
    "    \n",
    "  \n",
    "     leitor = csv.reader(arquivo)\n",
    "    \n",
    "     for linha in leitor:\n",
    "        print(linha)\n",
    "\n"
   ]
  },
  {
   "cell_type": "markdown",
   "id": "1801190f",
   "metadata": {},
   "source": [
    "Exercício 2: Lendo um arquivo CSV\n",
    "\n",
    "Leia o arquivo alunos.csv e mostre todos os dados na tela."
   ]
  },
  {
   "cell_type": "code",
   "execution_count": null,
   "id": "d9f2b6da",
   "metadata": {},
   "outputs": [
    {
     "name": "stdout",
     "output_type": "stream",
     "text": [
      "{'nome': 'Ana', 'idade': '17', 'nota': '8.5'}\n",
      "{'nome': 'João', 'idade': '16', 'nota': '7.0'}\n",
      "{'nome': 'maria', 'idade': '18', 'nota': '9.0'}\n"
     ]
    }
   ],
   "source": [
    "with open(\"alunos.csv\", \"r\", encoding=\"utf-8\") as arquivo:\n",
    "\n",
    "    leitor = csv.DictReader(arquivo)\n",
    "    \n",
    "    for linha in leitor:\n",
    "        print(linha)"
   ]
  },
  {
   "cell_type": "markdown",
   "id": "1c230648",
   "metadata": {},
   "source": [
    "Exercício 3: Adicionando um novo aluno\n",
    "\n",
    "Peça ao usuário para digitar os dados de um novo aluno e adicione-o ao arquivo CSV."
   ]
  },
  {
   "cell_type": "code",
   "execution_count": 5,
   "id": "41891bb5",
   "metadata": {},
   "outputs": [],
   "source": [
    "nome = input('Nome: ')\n",
    "idade = int(input(\"Idade :\"))\n",
    "nota = float(input('nota: '))\n",
    "\n",
    "with open('alunos.csv', 'a', newline='', encoding='utf-8') as arquivo:\n",
    "    escritor = csv.writer(arquivo)\n",
    "    escritor.writerow([nome,idade,nota])"
   ]
  },
  {
   "cell_type": "markdown",
   "id": "90ceb918",
   "metadata": {},
   "source": [
    "Exercício 4: Calculando a média das notas\n",
    "\n",
    "Calcule e mostre a média das notas de todos os alunos."
   ]
  },
  {
   "cell_type": "code",
   "execution_count": 22,
   "id": "121ec765",
   "metadata": {},
   "outputs": [
    {
     "name": "stdout",
     "output_type": "stream",
     "text": [
      "8.5\n",
      "7.0\n",
      "9.0\n",
      "9.0\n",
      "9.0\n",
      "Média das notas: 8.50\n"
     ]
    }
   ],
   "source": [
    "with open('alunos.csv', 'r',encoding='utf-8') as arquivo:\n",
    "  notas = []\n",
    "  leitor = csv.reader(arquivo)\n",
    "  next(leitor)\n",
    "  for linha in leitor:\n",
    "    print(linha[2])\n",
    "    nota = float(linha[2])\n",
    "    notas.append(nota)\n",
    "\n",
    "media = sum(notas) / len(notas)\n",
    "print(f\"Média das notas: {media:.2f}\") \n",
    " "
   ]
  },
  {
   "cell_type": "markdown",
   "id": "cb646ca2",
   "metadata": {},
   "source": [
    "Exercício 5: Filtrando alunos\n",
    "\n",
    "Mostre apenas os alunos com nota maior ou igual a 8.0."
   ]
  },
  {
   "cell_type": "code",
   "execution_count": 23,
   "id": "7b9a839d",
   "metadata": {},
   "outputs": [
    {
     "name": "stdout",
     "output_type": "stream",
     "text": [
      "8.5\n",
      "8.5\n",
      "7.0\n",
      "9.0\n",
      "9.0\n",
      "9.0\n",
      "9.0\n",
      "9.0\n",
      "9.0\n"
     ]
    }
   ],
   "source": [
    "with open('alunos.csv', 'r',encoding='utf-8') as arquivo:\n",
    "  notas = []\n",
    "  leitor = csv.reader(arquivo)\n",
    "  next(leitor)\n",
    "  for linha in leitor:\n",
    "    print(linha[2])\n",
    "    nota = float(linha[2])\n",
    "    notas.append(nota)\n",
    "\n",
    "    if nota >= 8.0:\n",
    "      print(nota)"
   ]
  },
  {
   "cell_type": "markdown",
   "id": "56736dca",
   "metadata": {},
   "source": [
    "Exercício 6: Criando um dicionário de alunos\n",
    "\n",
    "Leia o arquivo CSV usando csv.DictReader e mostre os dados como dicionários."
   ]
  },
  {
   "cell_type": "code",
   "execution_count": 36,
   "id": "06fdea7c",
   "metadata": {},
   "outputs": [
    {
     "name": "stdout",
     "output_type": "stream",
     "text": [
      "{'nome': 'Ana', 'idade': '17', 'nota': '8.5'}\n",
      "{'nome': 'João', 'idade': '16', 'nota': '7.0'}\n",
      "{'nome': 'maria', 'idade': '18', 'nota': '9.0'}\n",
      "{'nome': 'thauany', 'idade': '16', 'nota': '9.0'}\n",
      "{'nome': 'matheus', 'idade': '17', 'nota': '9.0'}\n"
     ]
    }
   ],
   "source": [
    "with open('alunos.csv', 'r',encoding='utf-8') as arquivo:\n",
    "\n",
    "    leitor = csv.DictReader(arquivo)\n",
    "    for linha in leitor:\n",
    "        print(linha)"
   ]
  },
  {
   "cell_type": "markdown",
   "id": "3c05675b",
   "metadata": {},
   "source": [
    "Exercício 7: Atualizando notas\n",
    "\n",
    "Aumente em 1.0 a nota de todos os alunos e salve no arquivo alunos_atualizados.csv."
   ]
  },
  {
   "cell_type": "code",
   "execution_count": 38,
   "id": "4bd26755",
   "metadata": {},
   "outputs": [
    {
     "name": "stdout",
     "output_type": "stream",
     "text": [
      "[['Ana', '17', 9.5]]\n",
      "[['Ana', '17', 9.5], ['João', '16', 8.0]]\n",
      "[['Ana', '17', 9.5], ['João', '16', 8.0], ['maria', '18', 10.0]]\n",
      "[['Ana', '17', 9.5], ['João', '16', 8.0], ['maria', '18', 10.0], ['thauany', '16', 10.0]]\n",
      "[['Ana', '17', 9.5], ['João', '16', 8.0], ['maria', '18', 10.0], ['thauany', '16', 10.0], ['matheus', '17', 10.0]]\n"
     ]
    }
   ],
   "source": [
    "with open('alunos.csv', 'r',encoding='utf-8') as arquivo:\n",
    "    notas_atualizadas = []\n",
    "    leitor = csv.reader(arquivo)\n",
    "    next(leitor)\n",
    "    for linha in leitor:\n",
    "        nota = float(linha[2])+1.0\n",
    "        notas_atualizadas.append([linha[0], linha[1], min(nota, 10.0)])\n",
    "\n",
    "        print(notas_atualizadas)\n",
    "\n",
    "with open('notas_atualizadas.csv', 'w',encoding='utf-8') as arquivo:\n",
    "    escritor = csv.writer(arquivo)\n",
    "    escritor.writerow([\"nome\", \"idade\", \"nota\"])\n",
    "    escritor.writerows(notas_atualizadas)\n"
   ]
  },
  {
   "cell_type": "markdown",
   "id": "2987ecdb",
   "metadata": {},
   "source": [
    "Exercício 8: Contando alunos por idade\n",
    "\n",
    "Conte quantos alunos existem em cada idade e mostre o resultado."
   ]
  },
  {
   "cell_type": "code",
   "execution_count": null,
   "id": "35053a80",
   "metadata": {},
   "outputs": [],
   "source": []
  },
  {
   "cell_type": "markdown",
   "id": "7b168846",
   "metadata": {},
   "source": [
    "Exercício 9: Juntando arquivos CSV\n",
    "\n",
    "Crie um novo arquivo turma_completa.csv que combine os dados de alunos.csv e alunos_atualizados.csv (use a nota do arquivo atualizado)."
   ]
  },
  {
   "cell_type": "code",
   "execution_count": null,
   "id": "41d1d918",
   "metadata": {},
   "outputs": [],
   "source": []
  },
  {
   "cell_type": "markdown",
   "id": "4fba760c",
   "metadata": {},
   "source": [
    "### Desafio Final ! 🚨🚨🚨🚨🚨🚨\n",
    "\n",
    "Esse é só para as lendas 😎😎😎\n",
    "\n",
    "Exercício 10: Gerando relatório de desempenho\n",
    "\n",
    "Crie um programa que gera um novo arquivo relatorio.csv com informações agregadas:\n",
    "\n",
    "- Nome do aluno\n",
    "\n",
    "\n",
    "- Nota original\n",
    "\n",
    "\n",
    "- Situação (\"Aprovado\" se nota >= 7.0, \"Recuperação\" se == 5.0, \"Reprovado\" caso contrário)\n",
    "\n"
   ]
  },
  {
   "cell_type": "code",
   "execution_count": null,
   "id": "67bc0a14",
   "metadata": {},
   "outputs": [],
   "source": []
  }
 ],
 "metadata": {
  "kernelspec": {
   "display_name": "Python 3",
   "language": "python",
   "name": "python3"
  },
  "language_info": {
   "codemirror_mode": {
    "name": "ipython",
    "version": 3
   },
   "file_extension": ".py",
   "mimetype": "text/x-python",
   "name": "python",
   "nbconvert_exporter": "python",
   "pygments_lexer": "ipython3",
   "version": "3.13.2"
  }
 },
 "nbformat": 4,
 "nbformat_minor": 5
}
